{
 "cells": [
  {
   "cell_type": "code",
   "execution_count": 2,
   "metadata": {},
   "outputs": [],
   "source": [
    "import pandapower as pp\n",
    "import pandas as pd\n",
    "import pandapower.networks as nw\n",
    "import matplotlib.pyplot as plt"
   ]
  },
  {
   "cell_type": "code",
   "execution_count": 5,
   "metadata": {},
   "outputs": [],
   "source": [
    "net= nw.simple_four_bus_system()"
   ]
  },
  {
   "cell_type": "code",
   "execution_count": 6,
   "metadata": {},
   "outputs": [
    {
     "name": "stdout",
     "output_type": "stream",
     "text": [
      "This pandapower network includes the following parameter tables:\n",
      "   - bus (4 elements)\n",
      "   - load (2 elements)\n",
      "   - sgen (2 elements)\n",
      "   - ext_grid (1 element)\n",
      "   - line (2 elements)\n",
      "   - trafo (1 element)\n",
      "   - bus_geodata (4 elements)\n"
     ]
    }
   ],
   "source": [
    "print(net)"
   ]
  },
  {
   "cell_type": "code",
   "execution_count": 7,
   "metadata": {},
   "outputs": [
    {
     "name": "stdout",
     "output_type": "stream",
     "text": [
      "      name  vn_kv type  zone  in_service\n",
      "0  bus1ref   10.0    b  None        True\n",
      "1     bus2    0.4    b  None        True\n",
      "2     bus3    0.4    b  None        True\n",
      "3     bus4    0.4    b  None        True\n"
     ]
    }
   ],
   "source": [
    "print(net.bus)"
   ]
  },
  {
   "cell_type": "code",
   "execution_count": 8,
   "metadata": {},
   "outputs": [
    {
     "name": "stdout",
     "output_type": "stream",
     "text": [
      "  name  bus   p_mw  q_mvar  sn_mva  scaling  in_service type  current_source\n",
      "0  pv1    2  0.020   0.005    0.03      1.0        True  wye            True\n",
      "1  pv2    3  0.015   0.002    0.02      1.0        True  wye            True\n"
     ]
    }
   ],
   "source": [
    "print(net.sgen)"
   ]
  },
  {
   "cell_type": "code",
   "execution_count": 9,
   "metadata": {},
   "outputs": [
    {
     "name": "stdout",
     "output_type": "stream",
     "text": [
      "    name  bus  p_mw  q_mvar  const_z_percent  const_i_percent  sn_mva  \\\n",
      "0  load1    2  0.03    0.01              0.0              0.0     NaN   \n",
      "1  load2    3  0.03    0.01              0.0              0.0     NaN   \n",
      "\n",
      "   scaling  in_service type  \n",
      "0      1.0        True  wye  \n",
      "1      1.0        True  wye  \n"
     ]
    }
   ],
   "source": [
    "print(net.load)"
   ]
  },
  {
   "cell_type": "code",
   "execution_count": 10,
   "metadata": {},
   "outputs": [],
   "source": [
    "pp.runpp(net)"
   ]
  },
  {
   "cell_type": "code",
   "execution_count": 11,
   "metadata": {},
   "outputs": [
    {
     "name": "stdout",
     "output_type": "stream",
     "text": [
      "      vm_pu  va_degree      p_mw    q_mvar\n",
      "0  1.000000   0.000000 -0.028256 -0.013475\n",
      "1  0.996608  -0.208127  0.000000  0.000000\n",
      "2  0.937760   0.992541  0.010000  0.005000\n",
      "3  0.902000   1.815913  0.015000  0.008000\n"
     ]
    }
   ],
   "source": [
    "print(net.res_bus)"
   ]
  },
  {
   "cell_type": "code",
   "execution_count": 12,
   "metadata": {},
   "outputs": [
    {
     "name": "stdout",
     "output_type": "stream",
     "text": [
      "This pandapower network includes the following parameter tables:\n",
      "   - bus (4 elements)\n",
      "   - load (2 elements)\n",
      "   - sgen (2 elements)\n",
      "   - ext_grid (1 element)\n",
      "   - line (2 elements)\n",
      "   - trafo (1 element)\n",
      "   - bus_geodata (4 elements)\n",
      " and the following results tables:\n",
      "   - res_bus (4 elements)\n",
      "   - res_line (2 elements)\n",
      "   - res_trafo (1 element)\n",
      "   - res_ext_grid (1 element)\n",
      "   - res_load (2 elements)\n",
      "   - res_sgen (2 elements)\n"
     ]
    }
   ],
   "source": [
    "print(net)"
   ]
  }
 ],
 "metadata": {
  "kernelspec": {
   "display_name": "Python 3",
   "language": "python",
   "name": "python3"
  },
  "language_info": {
   "codemirror_mode": {
    "name": "ipython",
    "version": 3
   },
   "file_extension": ".py",
   "mimetype": "text/x-python",
   "name": "python",
   "nbconvert_exporter": "python",
   "pygments_lexer": "ipython3",
   "version": "3.7.3"
  }
 },
 "nbformat": 4,
 "nbformat_minor": 2
}
